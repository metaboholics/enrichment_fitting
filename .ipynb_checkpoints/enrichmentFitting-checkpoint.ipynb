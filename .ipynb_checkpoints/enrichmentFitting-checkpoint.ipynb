{
 "cells": [
  {
   "cell_type": "markdown",
   "id": "f48ef393-ef73-44e3-832a-db972b00e0cb",
   "metadata": {},
   "source": [
    "# Setup"
   ]
  },
  {
   "cell_type": "code",
   "execution_count": 1,
   "id": "a5a7e1c8-ef20-4e88-a9fe-1ac99d132241",
   "metadata": {},
   "outputs": [
    {
     "name": "stderr",
     "output_type": "stream",
     "text": [
      "Loading required package: MASS\n",
      "\n",
      "\n",
      "'drc' has been loaded.\n",
      "\n",
      "\n",
      "Please cite R and 'drc' if used for a publication,\n",
      "\n",
      "for references type 'citation()' and 'citation('drc')'.\n",
      "\n",
      "\n",
      "\n",
      "Attaching package: ‘drc’\n",
      "\n",
      "\n",
      "The following objects are masked from ‘package:stats’:\n",
      "\n",
      "    gaussian, getInitial\n",
      "\n",
      "\n",
      "Loading required package: plyr\n",
      "\n",
      "Loading required package: car\n",
      "\n",
      "Loading required package: carData\n",
      "\n",
      "Loading required package: multcompView\n",
      "\n",
      "Registered S3 method overwritten by 'aomisc':\n",
      "  method   from\n",
      "  plot.nls nlme\n",
      "\n"
     ]
    }
   ],
   "source": [
    "library(drc)\n",
    "library(nlme)\n",
    "library(aomisc)"
   ]
  },
  {
   "cell_type": "markdown",
   "id": "18519fcc-c7e7-436b-b065-18eb64cfb43f",
   "metadata": {},
   "source": [
    "# Fitting"
   ]
  },
  {
   "cell_type": "code",
   "execution_count": 2,
   "id": "165d14da-ee02-47e3-99c9-685bf15b8ab5",
   "metadata": {},
   "outputs": [
    {
     "data": {
      "text/plain": [
       "\n",
       "Model fitted: Negative exponential function (2 parms)\n",
       "\n",
       "Parameter estimates:\n",
       "\n",
       "                Estimate Std. Error t-value   p-value    \n",
       "a:(Intercept) 2.5565e-01 8.7059e-08 2936549 2.168e-07 ***\n",
       "c:(Intercept) 7.6235e-01 9.4938e-07  802991 7.928e-07 ***\n",
       "---\n",
       "Signif. codes:  0 ‘***’ 0.001 ‘**’ 0.01 ‘*’ 0.05 ‘.’ 0.1 ‘ ’ 1\n",
       "\n",
       "Residual standard error:\n",
       "\n",
       " 6.575426e-08 (1 degrees of freedom)"
      ]
     },
     "metadata": {},
     "output_type": "display_data"
    },
    {
     "data": {
      "image/png": "[encoded data removed]",
      "text/plain": [
       "plot without title"
      ]
     },
     "metadata": {
      "image/png": {
       "height": 420,
       "width": 420
      }
     },
     "output_type": "display_data"
    }
   ],
   "source": [
    "# Input values\n",
    "X <- c(0,2,5) # Timepoint\n",
    "Y <- c(0,0.2,0.25) # Relative or absolute enrichment\n",
    "\n",
    "model <- drm(Y ~ X, fct = DRC.negExp()) # Fits the negative exponential function\n",
    "\n",
    "plot(model, log='')\n",
    "summary(model)"
   ]
  },
  {
   "cell_type": "markdown",
   "id": "48032821-91e3-427f-a287-79c83c5dc39b",
   "metadata": {},
   "source": [
    "# Simulation"
   ]
  },
  {
   "cell_type": "code",
   "execution_count": 3,
   "id": "23f69567-98ec-4ba3-91d6-615d952c9910",
   "metadata": {},
   "outputs": [
    {
     "ename": "ERROR",
     "evalue": "Error in sample(1:numberOfTotalBalls, numberOfReplacedBalls, replace = FALSE): object 'numberOfReplacedBalls' not found\n",
     "output_type": "error",
     "traceback": [
      "Error in sample(1:numberOfTotalBalls, numberOfReplacedBalls, replace = FALSE): object 'numberOfReplacedBalls' not found\nTraceback:\n",
      "1. sample(1:numberOfTotalBalls, numberOfReplacedBalls, replace = FALSE)",
      "2. sample.int(length(x), size, replace, prob)"
     ]
    }
   ],
   "source": [
    "numberOfTotalBalls <- 1000 # Pool size\n",
    "numberOfReplacedBalls_white <- 5 # Absolute unlabeled flux\n",
    "numberOfReplacedBalls_red <- 5 # Absolute labeled flux\n",
    "numberOfCycles <- 700 # Labeling time\n",
    "\n",
    "\n",
    "trueRelativeFlux <- (numberOfReplacedBalls_white + numberOfReplacedBalls_red) / numberOfTotalBalls\n",
    "trueEnrichment <- numberOfReplacedBalls_red / (numberOfReplacedBalls_red + numberOfReplacedBalls_white)\n",
    "\n",
    "\n",
    "urn <- rep('white', numberOfTotalBalls)\n",
    "enrichmentPerStep <- NULL\n",
    "\n",
    "for (i in 1:numberOfCycles) {    \n",
    "       \n",
    "    selection <- sample(1:numberOfTotalBalls, numberOfReplacedBalls, replace=FALSE) # replace=FALSE: same number cannot be picked twice\n",
    "    urn <- replace(urn, selection, c(rep('white', numberOfReplacedBalls_white), rep('red', numberOfReplacedBalls_red)))\n",
    "    \n",
    "    n_white <- length(urn[urn=='white'])\n",
    "    n_red <- length(urn[urn=='red'])\n",
    "    enrichment = n_red/(n_white + n_red)\n",
    "    \n",
    "    enrichmentPerStep[i] <- enrichment\n",
    "    \n",
    "}\n",
    "\n",
    "\n",
    "# Input values\n",
    "X <- c(1:length(enrichmentPerStep)) # Timepoint\n",
    "Y <- c(enrichmentPerStep) # Relative or absolute enrichment\n",
    "\n",
    "model <- drm(Y ~ X, fct = DRC.negExp()) # Fits the negative exponential function\n",
    "\n",
    "\n",
    "# Fitting results\n",
    "modelRes <- summary(model)\n",
    "res <- data.frame(Simulated = c(modelRes$coefficients[1,1], modelRes$coefficients[1,2]),\n",
    "                  True = c(trueEnrichment, trueRelativeFlux)\n",
    "                 )\n",
    "res$'Simulated/True' <- res$Simulated / res$True\n",
    "rownames(res) <- c('Enrichment', 'Relative flux')\n",
    "res\n",
    "\n",
    "# Plot\n",
    "plot(model, log='', main='Enrichment over time', xlab='Time', ylab='Enrichment')"
   ]
  }
 ],
 "metadata": {
  "kernelspec": {
   "display_name": "R [conda env:.conda-enrichment]",
   "language": "R",
   "name": "conda-env-.conda-enrichment-r"
  },
  "language_info": {
   "codemirror_mode": "r",
   "file_extension": ".r",
   "mimetype": "text/x-r-source",
   "name": "R",
   "pygments_lexer": "r",
   "version": "4.2.2"
  },
  "toc-autonumbering": true
 },
 "nbformat": 4,
 "nbformat_minor": 5
}
