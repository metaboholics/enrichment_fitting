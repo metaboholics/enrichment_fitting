{
 "cells": [
  {
   "cell_type": "markdown",
   "id": "92ff29a9",
   "metadata": {},
   "source": [
    "# Load required libraries"
   ]
  },
  {
   "cell_type": "markdown",
   "id": "cd0cafc6",
   "metadata": {},
   "source": [
    "Requires R4.1"
   ]
  },
  {
   "cell_type": "code",
   "execution_count": 3,
   "id": "6713c349",
   "metadata": {
    "scrolled": true
   },
   "outputs": [
    {
     "ename": "ERROR",
     "evalue": "Error in library(drc): there is no package called ‘drc’\n",
     "output_type": "error",
     "traceback": [
      "Error in library(drc): there is no package called ‘drc’\nTraceback:\n",
      "1. library(drc)"
     ]
    }
   ],
   "source": [
    "library(drc)\n",
    "library(nlme)\n",
    "library(aomisc)"
   ]
  },
  {
   "cell_type": "markdown",
   "id": "0376fd1a",
   "metadata": {},
   "source": [
    "# Curve fit"
   ]
  },
  {
   "cell_type": "markdown",
   "id": "912a452a",
   "metadata": {},
   "source": [
    "Negative exponential function:\\\n",
    "$Y = a(1-\\text e^{(-cX)})$"
   ]
  },
  {
   "cell_type": "code",
   "execution_count": 6,
   "id": "d69dd0c9",
   "metadata": {
    "scrolled": false
   },
   "outputs": [
    {
     "ename": "ERROR",
     "evalue": "Error in drm(Y ~ X, fct = DRC.negExp()): could not find function \"drm\"\n",
     "output_type": "error",
     "traceback": [
      "Error in drm(Y ~ X, fct = DRC.negExp()): could not find function \"drm\"\nTraceback:\n"
     ]
    }
   ],
   "source": [
    "# Input values\n",
    "\n",
    "X <- c(0,16,24,40) # Timepoint\n",
    "Y <- c(0,1.41,2.1,2.4) # Relative or absolute enrichment\n",
    "\n",
    "model <- drm(Y ~ X, fct = DRC.negExp()) # Fits the negative exponential function\n",
    "\n",
    "plot(model, log='')\n",
    "summary(model)"
   ]
  }
 ],
 "metadata": {
  "kernelspec": {
   "display_name": "R",
   "language": "R",
   "name": "ir"
  },
  "language_info": {
   "codemirror_mode": "r",
   "file_extension": ".r",
   "mimetype": "text/x-r-source",
   "name": "R",
   "pygments_lexer": "r",
   "version": "3.6.3"
  },
  "toc": {
   "base_numbering": 1,
   "nav_menu": {},
   "number_sections": true,
   "sideBar": true,
   "skip_h1_title": false,
   "title_cell": "Table of Contents",
   "title_sidebar": "Contents",
   "toc_cell": false,
   "toc_position": {},
   "toc_section_display": true,
   "toc_window_display": false
  }
 },
 "nbformat": 4,
 "nbformat_minor": 5
}
